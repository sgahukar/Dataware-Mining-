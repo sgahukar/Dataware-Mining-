{
 "cells": [
  {
   "cell_type": "code",
   "execution_count": 10,
   "id": "283f2100-07e4-41f8-b3cc-3fdff751734b",
   "metadata": {},
   "outputs": [
    {
     "name": "stdout",
     "output_type": "stream",
     "text": [
      "Original Data:\n",
      "   ID     Name  Age Country  Sales\n",
      "0   1    Alice   25     USA    200\n",
      "1   2      Bob   30      UK    450\n",
      "2   3  Charlie   35     USA    300\n",
      "3   4    David   40   India    800\n",
      "4   5      Eve   22  Canada    150\n",
      "5   6    Frank   29      UK    400\n"
     ]
    }
   ],
   "source": [
    "import pandas as pd\n",
    "\n",
    "data = {\n",
    "    'ID': [1, 2, 3, 4, 5, 6],\n",
    "    'Name': ['Alice', 'Bob', 'Charlie', 'David', 'Eve', 'Frank'],\n",
    "    'Age': [25, 30, 35, 40, 22, 29],\n",
    "    'Country': ['USA', 'UK', 'USA', 'India', 'Canada', 'UK'],\n",
    "    'Sales': [200, 450, 300, 800, 150, 400]\n",
    "}\n",
    "\n",
    "df = pd.DataFrame(data)\n",
    "print(\"Original Data:\")\n",
    "print(df)"
   ]
  },
  {
   "cell_type": "code",
   "execution_count": 11,
   "id": "5b4c62e5-18d4-425e-8276-24a81ef790da",
   "metadata": {},
   "outputs": [
    {
     "name": "stdout",
     "output_type": "stream",
     "text": [
      "\n",
      "Character Map (Uppercase Names):\n",
      "    ID     Name  Age Country  Sales\n",
      "0   1    ALICE   25     USA    200\n",
      "1   2      BOB   30      UK    450\n",
      "2   3  CHARLIE   35     USA    300\n",
      "3   4    DAVID   40   India    800\n",
      "4   5      EVE   22  Canada    150\n",
      "5   6    FRANK   29      UK    400\n"
     ]
    }
   ],
   "source": [
    "# 1. Transform text data (Convert Name to uppercase)\n",
    "df['Name'] = df['Name'].str.upper()\n",
    "print(\"\\nCharacter Map (Uppercase Names):\\n\", df)"
   ]
  },
  {
   "cell_type": "code",
   "execution_count": 13,
   "id": "28e020bd-6620-4ab4-9644-1e7a168e5a17",
   "metadata": {},
   "outputs": [
    {
     "name": "stdout",
     "output_type": "stream",
     "text": [
      "Multicast Transformation - Two copies created\n"
     ]
    }
   ],
   "source": [
    "# 2. Multicast (Create copies for parallel transformations)\n",
    "df_sales_increased = df.copy()\n",
    "df_age_increased = df.copy()\n",
    "print(\"Multicast Transformation - Two copies created\")"
   ]
  },
  {
   "cell_type": "code",
   "execution_count": 14,
   "id": "fbb36022-ccc9-4e06-a0c9-a81bf4e09a44",
   "metadata": {},
   "outputs": [
    {
     "name": "stdout",
     "output_type": "stream",
     "text": [
      "Conditional Split Transformation:\n",
      "    ID   Name  Age Country  Sales\n",
      "1   2    BOB   30      UK    450\n",
      "3   4  DAVID   40   India    800\n",
      "5   6  FRANK   29      UK    400\n"
     ]
    }
   ],
   "source": [
    "# 3. Conditional Split (Sales > 300)\n",
    "high_sales_df = df[df['Sales'] > 300]\n",
    "print(\"Conditional Split Transformation:\\n\", high_sales_df)"
   ]
  },
  {
   "cell_type": "code",
   "execution_count": 15,
   "id": "f901905b-edfd-4034-b62b-7957028b1a3d",
   "metadata": {},
   "outputs": [
    {
     "name": "stdout",
     "output_type": "stream",
     "text": [
      "\n",
      "Aggregation Transformation:\n",
      "   Country  Sales\n",
      "0  Canada    150\n",
      "1   India    800\n",
      "2      UK    850\n",
      "3     USA    500\n"
     ]
    }
   ],
   "source": [
    "# 4. Aggregation (Total Sales by Country)\n",
    "agg_sales = df.groupby('Country')['Sales'].sum().reset_index()\n",
    "print(\"\\nAggregation Transformation:\\n\", agg_sales)"
   ]
  },
  {
   "cell_type": "code",
   "execution_count": 16,
   "id": "e73210e8-95aa-41f5-9ab5-00445ebcd410",
   "metadata": {},
   "outputs": [
    {
     "name": "stdout",
     "output_type": "stream",
     "text": [
      "\n",
      "Sort Transformation:\n",
      "    ID     Name  Age Country  Sales\n",
      "3   4    DAVID   40   India    800\n",
      "1   2      BOB   30      UK    450\n",
      "5   6    FRANK   29      UK    400\n",
      "2   3  CHARLIE   35     USA    300\n",
      "0   1    ALICE   25     USA    200\n",
      "4   5      EVE   22  Canada    150\n"
     ]
    }
   ],
   "source": [
    "# 5. Sort (Descending Order by Sales)\n",
    "sorted_df = df.sort_values(by='Sales', ascending=False)\n",
    "print(\"\\nSort Transformation:\\n\", sorted_df)"
   ]
  },
  {
   "cell_type": "code",
   "execution_count": 17,
   "id": "f88e9b28-dbe1-4909-91a9-9273f2bc1201",
   "metadata": {},
   "outputs": [
    {
     "name": "stdout",
     "output_type": "stream",
     "text": [
      "\n",
      "Derived Column Transformation:\n",
      "    ID     Name  Age Country  Sales Sales_Category\n",
      "0   1    ALICE   25     USA    200            Low\n",
      "1   2      BOB   30      UK    450           High\n",
      "2   3  CHARLIE   35     USA    300            Low\n",
      "3   4    DAVID   40   India    800           High\n",
      "4   5      EVE   22  Canada    150            Low\n",
      "5   6    FRANK   29      UK    400           High\n"
     ]
    }
   ],
   "source": [
    "# 6. Derived Column (Categorize Sales)\n",
    "df['Sales_Category'] = df['Sales'].apply(lambda x: 'High' if x > 300 else 'Low')\n",
    "print(\"\\nDerived Column Transformation:\\n\", df)"
   ]
  }
 ],
 "metadata": {
  "kernelspec": {
   "display_name": "Python 3 (ipykernel)",
   "language": "python",
   "name": "python3"
  },
  "language_info": {
   "codemirror_mode": {
    "name": "ipython",
    "version": 3
   },
   "file_extension": ".py",
   "mimetype": "text/x-python",
   "name": "python",
   "nbconvert_exporter": "python",
   "pygments_lexer": "ipython3",
   "version": "3.12.7"
  }
 },
 "nbformat": 4,
 "nbformat_minor": 5
}
