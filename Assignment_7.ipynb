{
 "cells": [
  {
   "cell_type": "markdown",
   "id": "7754b872-0aa6-4298-93fc-e9f38f456d24",
   "metadata": {},
   "source": [
    "## Name - Suhani Gahukar\n",
    "## PRN - 22070521084"
   ]
  },
  {
   "cell_type": "code",
   "execution_count": 5,
   "id": "1731330b-c204-4bd2-b3c4-0d80fd8d3c6b",
   "metadata": {},
   "outputs": [],
   "source": [
    "import pandas as pd\n",
    "from mlxtend.preprocessing import TransactionEncoder\n",
    "from mlxtend.frequent_patterns import apriori, association_rules"
   ]
  },
  {
   "cell_type": "code",
   "execution_count": 6,
   "id": "a8f90a13-d2d7-4c0d-a320-1d902eba0ff7",
   "metadata": {},
   "outputs": [],
   "source": [
    "# Sample dataset\n",
    "dataset = [\n",
    "    ['Milk', 'Bread', 'Butter'],\n",
    "    ['Bread', 'Butter'],\n",
    "    ['Milk', 'Bread'],\n",
    "    ['Milk', 'Bread', 'Butter'],\n",
    "    ['Milk', 'Butter']\n",
    "]"
   ]
  },
  {
   "cell_type": "code",
   "execution_count": 7,
   "id": "9e383b08-7f54-4e43-ba91-535c41328608",
   "metadata": {},
   "outputs": [
    {
     "name": "stdout",
     "output_type": "stream",
     "text": [
      "\n",
      "Frequent Itemsets:\n",
      "    support         itemsets\n",
      "0      0.8          (Bread)\n",
      "1      0.8         (Butter)\n",
      "2      0.8           (Milk)\n",
      "3      0.6  (Butter, Bread)\n",
      "4      0.6    (Bread, Milk)\n",
      "5      0.6   (Butter, Milk)\n",
      "\n",
      "Association Rules:\n",
      "   antecedents consequents  support  confidence    lift\n",
      "0    (Butter)     (Bread)      0.6        0.75  0.9375\n",
      "1     (Bread)    (Butter)      0.6        0.75  0.9375\n",
      "2     (Bread)      (Milk)      0.6        0.75  0.9375\n",
      "3      (Milk)     (Bread)      0.6        0.75  0.9375\n",
      "4    (Butter)      (Milk)      0.6        0.75  0.9375\n",
      "5      (Milk)    (Butter)      0.6        0.75  0.9375\n"
     ]
    }
   ],
   "source": [
    "# Convert to DataFrame\n",
    "te = TransactionEncoder()\n",
    "te_ary = te.fit(dataset).transform(dataset)\n",
    "df = pd.DataFrame(te_ary, columns=te.columns_)\n",
    "\n",
    "# Apply Apriori\n",
    "frequent_itemsets = apriori(df, min_support=0.6, use_colnames=True)\n",
    "print(\"\\nFrequent Itemsets:\\n\", frequent_itemsets)\n",
    "\n",
    "# Generate association rules\n",
    "rules = association_rules(frequent_itemsets, metric=\"confidence\", min_threshold=0.7)\n",
    "print(\"\\nAssociation Rules:\\n\", rules[['antecedents', 'consequents', 'support', 'confidence', 'lift']])"
   ]
  }
 ],
 "metadata": {
  "kernelspec": {
   "display_name": "Python 3 (ipykernel)",
   "language": "python",
   "name": "python3"
  },
  "language_info": {
   "codemirror_mode": {
    "name": "ipython",
    "version": 3
   },
   "file_extension": ".py",
   "mimetype": "text/x-python",
   "name": "python",
   "nbconvert_exporter": "python",
   "pygments_lexer": "ipython3",
   "version": "3.13.2"
  }
 },
 "nbformat": 4,
 "nbformat_minor": 5
}
